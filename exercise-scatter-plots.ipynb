{
 "cells": [
  {
   "cell_type": "markdown",
   "id": "aaeddc45",
   "metadata": {
    "papermill": {
     "duration": 0.010926,
     "end_time": "2023-01-15T09:31:27.081933",
     "exception": false,
     "start_time": "2023-01-15T09:31:27.071007",
     "status": "completed"
    },
    "tags": []
   },
   "source": [
    "**This notebook is an exercise in the [Data Visualization](https://www.kaggle.com/learn/data-visualization) course.  You can reference the tutorial at [this link](https://www.kaggle.com/alexisbcook/scatter-plots).**\n",
    "\n",
    "---\n"
   ]
  },
  {
   "cell_type": "markdown",
   "id": "bb8f59e2",
   "metadata": {
    "papermill": {
     "duration": 0.008914,
     "end_time": "2023-01-15T09:31:27.100027",
     "exception": false,
     "start_time": "2023-01-15T09:31:27.091113",
     "status": "completed"
    },
    "tags": []
   },
   "source": [
    "In this exercise, you will use your new knowledge to propose a solution to a real-world scenario.  To succeed, you will need to import data into Python, answer questions using the data, and generate **scatter plots** to understand patterns in the data.\n",
    "\n",
    "## Scenario\n",
    "\n",
    "You work for a major candy producer, and your goal is to write a report that your company can use to guide the design of its next product.  Soon after starting your research, you stumble across this [very interesting dataset](https://fivethirtyeight.com/features/the-ultimate-halloween-candy-power-ranking/) containing results from a fun survey to crowdsource favorite candies.\n",
    "\n",
    "## Setup\n",
    "\n",
    "Run the next cell to import and configure the Python libraries that you need to complete the exercise."
   ]
  },
  {
   "cell_type": "code",
   "execution_count": 1,
   "id": "0406c02c",
   "metadata": {
    "execution": {
     "iopub.execute_input": "2023-01-15T09:31:27.121257Z",
     "iopub.status.busy": "2023-01-15T09:31:27.120532Z",
     "iopub.status.idle": "2023-01-15T09:31:28.321668Z",
     "shell.execute_reply": "2023-01-15T09:31:28.320333Z"
    },
    "papermill": {
     "duration": 1.215857,
     "end_time": "2023-01-15T09:31:28.325672",
     "exception": false,
     "start_time": "2023-01-15T09:31:27.109815",
     "status": "completed"
    },
    "tags": []
   },
   "outputs": [
    {
     "name": "stdout",
     "output_type": "stream",
     "text": [
      "Setup Complete\n"
     ]
    }
   ],
   "source": [
    "import pandas as pd\n",
    "pd.plotting.register_matplotlib_converters()\n",
    "import matplotlib.pyplot as plt\n",
    "%matplotlib inline\n",
    "import seaborn as sns\n",
    "print(\"Setup Complete\")"
   ]
  },
  {
   "cell_type": "markdown",
   "id": "87a0a636",
   "metadata": {
    "papermill": {
     "duration": 0.008569,
     "end_time": "2023-01-15T09:31:28.344578",
     "exception": false,
     "start_time": "2023-01-15T09:31:28.336009",
     "status": "completed"
    },
    "tags": []
   },
   "source": [
    "The questions below will give you feedback on your work. Run the following cell to set up our feedback system."
   ]
  },
  {
   "cell_type": "code",
   "execution_count": 2,
   "id": "1aaacb23",
   "metadata": {
    "execution": {
     "iopub.execute_input": "2023-01-15T09:31:28.366582Z",
     "iopub.status.busy": "2023-01-15T09:31:28.366148Z",
     "iopub.status.idle": "2023-01-15T09:31:28.440783Z",
     "shell.execute_reply": "2023-01-15T09:31:28.439449Z"
    },
    "papermill": {
     "duration": 0.088672,
     "end_time": "2023-01-15T09:31:28.443940",
     "exception": false,
     "start_time": "2023-01-15T09:31:28.355268",
     "status": "completed"
    },
    "tags": []
   },
   "outputs": [
    {
     "name": "stdout",
     "output_type": "stream",
     "text": [
      "Setup Complete\n"
     ]
    }
   ],
   "source": [
    "# Set up code checking\n",
    "import os\n",
    "if not os.path.exists(\"../input/candy.csv\"):\n",
    "    os.symlink(\"../input/data-for-datavis/candy.csv\", \"../input/candy.csv\") \n",
    "from learntools.core import binder\n",
    "binder.bind(globals())\n",
    "from learntools.data_viz_to_coder.ex4 import *\n",
    "print(\"Setup Complete\")"
   ]
  },
  {
   "cell_type": "markdown",
   "id": "4cdd15d6",
   "metadata": {
    "papermill": {
     "duration": 0.008995,
     "end_time": "2023-01-15T09:31:28.461945",
     "exception": false,
     "start_time": "2023-01-15T09:31:28.452950",
     "status": "completed"
    },
    "tags": []
   },
   "source": [
    "## Step 1: Load the Data\n",
    "\n",
    "Read the candy data file into `candy_data`.  Use the `\"id\"` column to label the rows."
   ]
  },
  {
   "cell_type": "code",
   "execution_count": 3,
   "id": "fcba89e7",
   "metadata": {
    "execution": {
     "iopub.execute_input": "2023-01-15T09:31:28.482219Z",
     "iopub.status.busy": "2023-01-15T09:31:28.481803Z",
     "iopub.status.idle": "2023-01-15T09:31:28.498527Z",
     "shell.execute_reply": "2023-01-15T09:31:28.497412Z"
    },
    "papermill": {
     "duration": 0.02945,
     "end_time": "2023-01-15T09:31:28.500916",
     "exception": false,
     "start_time": "2023-01-15T09:31:28.471466",
     "status": "completed"
    },
    "tags": []
   },
   "outputs": [
    {
     "data": {
      "application/javascript": [
       "parent.postMessage({\"jupyterEvent\": \"custom.exercise_interaction\", \"data\": {\"outcomeType\": 1, \"valueTowardsCompletion\": 0.3333333333333333, \"interactionType\": 1, \"questionType\": 1, \"questionId\": \"1_LoadData\", \"learnToolsVersion\": \"0.3.4\", \"failureMessage\": \"\", \"exceptionClass\": \"\", \"trace\": \"\"}}, \"*\")"
      ],
      "text/plain": [
       "<IPython.core.display.Javascript object>"
      ]
     },
     "metadata": {},
     "output_type": "display_data"
    },
    {
     "data": {
      "text/markdown": [
       "<span style=\"color:#33cc33\">Correct</span>"
      ],
      "text/plain": [
       "Correct"
      ]
     },
     "metadata": {},
     "output_type": "display_data"
    }
   ],
   "source": [
    "# Path of the file to read\n",
    "candy_filepath = \"../input/candy.csv\"\n",
    "\n",
    "# Fill in the line below to read the file into a variable candy_data\n",
    "candy_data = pd.read_csv(candy_filepath,index_col='id')\n",
    "\n",
    "# Run the line below with no changes to check that you've loaded the data correctly\n",
    "step_1.check()"
   ]
  },
  {
   "cell_type": "code",
   "execution_count": 4,
   "id": "fe3e4b52",
   "metadata": {
    "execution": {
     "iopub.execute_input": "2023-01-15T09:31:28.521227Z",
     "iopub.status.busy": "2023-01-15T09:31:28.520845Z",
     "iopub.status.idle": "2023-01-15T09:31:28.526094Z",
     "shell.execute_reply": "2023-01-15T09:31:28.524827Z"
    },
    "papermill": {
     "duration": 0.018396,
     "end_time": "2023-01-15T09:31:28.528607",
     "exception": false,
     "start_time": "2023-01-15T09:31:28.510211",
     "status": "completed"
    },
    "tags": []
   },
   "outputs": [],
   "source": [
    "# Lines below will give you a hint or solution code\n",
    "#step_1.hint()\n",
    "#step_1.solution()"
   ]
  },
  {
   "cell_type": "markdown",
   "id": "93835206",
   "metadata": {
    "papermill": {
     "duration": 0.00878,
     "end_time": "2023-01-15T09:31:28.546526",
     "exception": false,
     "start_time": "2023-01-15T09:31:28.537746",
     "status": "completed"
    },
    "tags": []
   },
   "source": [
    "## Step 2: Review the data\n",
    "\n",
    "Use a Python command to print the first five rows of the data."
   ]
  },
  {
   "cell_type": "code",
   "execution_count": 5,
   "id": "34155540",
   "metadata": {
    "execution": {
     "iopub.execute_input": "2023-01-15T09:31:28.566479Z",
     "iopub.status.busy": "2023-01-15T09:31:28.566050Z",
     "iopub.status.idle": "2023-01-15T09:31:28.590015Z",
     "shell.execute_reply": "2023-01-15T09:31:28.588796Z"
    },
    "papermill": {
     "duration": 0.036839,
     "end_time": "2023-01-15T09:31:28.592500",
     "exception": false,
     "start_time": "2023-01-15T09:31:28.555661",
     "status": "completed"
    },
    "tags": []
   },
   "outputs": [
    {
     "data": {
      "text/html": [
       "<div>\n",
       "<style scoped>\n",
       "    .dataframe tbody tr th:only-of-type {\n",
       "        vertical-align: middle;\n",
       "    }\n",
       "\n",
       "    .dataframe tbody tr th {\n",
       "        vertical-align: top;\n",
       "    }\n",
       "\n",
       "    .dataframe thead th {\n",
       "        text-align: right;\n",
       "    }\n",
       "</style>\n",
       "<table border=\"1\" class=\"dataframe\">\n",
       "  <thead>\n",
       "    <tr style=\"text-align: right;\">\n",
       "      <th></th>\n",
       "      <th>competitorname</th>\n",
       "      <th>chocolate</th>\n",
       "      <th>fruity</th>\n",
       "      <th>caramel</th>\n",
       "      <th>peanutyalmondy</th>\n",
       "      <th>nougat</th>\n",
       "      <th>crispedricewafer</th>\n",
       "      <th>hard</th>\n",
       "      <th>bar</th>\n",
       "      <th>pluribus</th>\n",
       "      <th>sugarpercent</th>\n",
       "      <th>pricepercent</th>\n",
       "      <th>winpercent</th>\n",
       "    </tr>\n",
       "    <tr>\n",
       "      <th>id</th>\n",
       "      <th></th>\n",
       "      <th></th>\n",
       "      <th></th>\n",
       "      <th></th>\n",
       "      <th></th>\n",
       "      <th></th>\n",
       "      <th></th>\n",
       "      <th></th>\n",
       "      <th></th>\n",
       "      <th></th>\n",
       "      <th></th>\n",
       "      <th></th>\n",
       "      <th></th>\n",
       "    </tr>\n",
       "  </thead>\n",
       "  <tbody>\n",
       "    <tr>\n",
       "      <th>0</th>\n",
       "      <td>100 Grand</td>\n",
       "      <td>Yes</td>\n",
       "      <td>No</td>\n",
       "      <td>Yes</td>\n",
       "      <td>No</td>\n",
       "      <td>No</td>\n",
       "      <td>Yes</td>\n",
       "      <td>No</td>\n",
       "      <td>Yes</td>\n",
       "      <td>No</td>\n",
       "      <td>0.732</td>\n",
       "      <td>0.860</td>\n",
       "      <td>66.971725</td>\n",
       "    </tr>\n",
       "    <tr>\n",
       "      <th>1</th>\n",
       "      <td>3 Musketeers</td>\n",
       "      <td>Yes</td>\n",
       "      <td>No</td>\n",
       "      <td>No</td>\n",
       "      <td>No</td>\n",
       "      <td>Yes</td>\n",
       "      <td>No</td>\n",
       "      <td>No</td>\n",
       "      <td>Yes</td>\n",
       "      <td>No</td>\n",
       "      <td>0.604</td>\n",
       "      <td>0.511</td>\n",
       "      <td>67.602936</td>\n",
       "    </tr>\n",
       "    <tr>\n",
       "      <th>2</th>\n",
       "      <td>Air Heads</td>\n",
       "      <td>No</td>\n",
       "      <td>Yes</td>\n",
       "      <td>No</td>\n",
       "      <td>No</td>\n",
       "      <td>No</td>\n",
       "      <td>No</td>\n",
       "      <td>No</td>\n",
       "      <td>No</td>\n",
       "      <td>No</td>\n",
       "      <td>0.906</td>\n",
       "      <td>0.511</td>\n",
       "      <td>52.341465</td>\n",
       "    </tr>\n",
       "    <tr>\n",
       "      <th>3</th>\n",
       "      <td>Almond Joy</td>\n",
       "      <td>Yes</td>\n",
       "      <td>No</td>\n",
       "      <td>No</td>\n",
       "      <td>Yes</td>\n",
       "      <td>No</td>\n",
       "      <td>No</td>\n",
       "      <td>No</td>\n",
       "      <td>Yes</td>\n",
       "      <td>No</td>\n",
       "      <td>0.465</td>\n",
       "      <td>0.767</td>\n",
       "      <td>50.347546</td>\n",
       "    </tr>\n",
       "    <tr>\n",
       "      <th>4</th>\n",
       "      <td>Baby Ruth</td>\n",
       "      <td>Yes</td>\n",
       "      <td>No</td>\n",
       "      <td>Yes</td>\n",
       "      <td>Yes</td>\n",
       "      <td>Yes</td>\n",
       "      <td>No</td>\n",
       "      <td>No</td>\n",
       "      <td>Yes</td>\n",
       "      <td>No</td>\n",
       "      <td>0.604</td>\n",
       "      <td>0.767</td>\n",
       "      <td>56.914547</td>\n",
       "    </tr>\n",
       "  </tbody>\n",
       "</table>\n",
       "</div>"
      ],
      "text/plain": [
       "   competitorname chocolate fruity caramel peanutyalmondy nougat  \\\n",
       "id                                                                 \n",
       "0       100 Grand       Yes     No     Yes             No     No   \n",
       "1    3 Musketeers       Yes     No      No             No    Yes   \n",
       "2       Air Heads        No    Yes      No             No     No   \n",
       "3      Almond Joy       Yes     No      No            Yes     No   \n",
       "4       Baby Ruth       Yes     No     Yes            Yes    Yes   \n",
       "\n",
       "   crispedricewafer hard  bar pluribus  sugarpercent  pricepercent  winpercent  \n",
       "id                                                                              \n",
       "0               Yes   No  Yes       No         0.732         0.860   66.971725  \n",
       "1                No   No  Yes       No         0.604         0.511   67.602936  \n",
       "2                No   No   No       No         0.906         0.511   52.341465  \n",
       "3                No   No  Yes       No         0.465         0.767   50.347546  \n",
       "4                No   No  Yes       No         0.604         0.767   56.914547  "
      ]
     },
     "execution_count": 5,
     "metadata": {},
     "output_type": "execute_result"
    }
   ],
   "source": [
    "# Print the first five rows of the data\n",
    "candy_data.head() # Your code here"
   ]
  },
  {
   "cell_type": "markdown",
   "id": "93265d15",
   "metadata": {
    "papermill": {
     "duration": 0.009082,
     "end_time": "2023-01-15T09:31:28.611277",
     "exception": false,
     "start_time": "2023-01-15T09:31:28.602195",
     "status": "completed"
    },
    "tags": []
   },
   "source": [
    "The dataset contains 83 rows, where each corresponds to a different candy bar.  There are 13 columns:\n",
    "- `'competitorname'` contains the name of the candy bar. \n",
    "- the next **9** columns (from `'chocolate'` to `'pluribus'`) describe the candy.  For instance, rows with chocolate candies have `\"Yes\"` in the `'chocolate'` column (and candies without chocolate have `\"No\"` in the same column).\n",
    "- `'sugarpercent'` provides some indication of the amount of sugar, where higher values signify higher sugar content.\n",
    "- `'pricepercent'` shows the price per unit, relative to the other candies in the dataset.\n",
    "- `'winpercent'` is calculated from the survey results; higher values indicate that the candy was more popular with survey respondents.\n",
    "\n",
    "Use the first five rows of the data to answer the questions below."
   ]
  },
  {
   "cell_type": "code",
   "execution_count": 6,
   "id": "59a007eb",
   "metadata": {
    "execution": {
     "iopub.execute_input": "2023-01-15T09:31:28.632158Z",
     "iopub.status.busy": "2023-01-15T09:31:28.631255Z",
     "iopub.status.idle": "2023-01-15T09:31:28.639853Z",
     "shell.execute_reply": "2023-01-15T09:31:28.639014Z"
    },
    "papermill": {
     "duration": 0.021116,
     "end_time": "2023-01-15T09:31:28.641808",
     "exception": false,
     "start_time": "2023-01-15T09:31:28.620692",
     "status": "completed"
    },
    "tags": []
   },
   "outputs": [
    {
     "data": {
      "application/javascript": [
       "parent.postMessage({\"jupyterEvent\": \"custom.exercise_interaction\", \"data\": {\"outcomeType\": 1, \"valueTowardsCompletion\": 0.3333333333333333, \"interactionType\": 1, \"questionType\": 1, \"questionId\": \"2_ReviewData\", \"learnToolsVersion\": \"0.3.4\", \"failureMessage\": \"\", \"exceptionClass\": \"\", \"trace\": \"\"}}, \"*\")"
      ],
      "text/plain": [
       "<IPython.core.display.Javascript object>"
      ]
     },
     "metadata": {},
     "output_type": "display_data"
    },
    {
     "data": {
      "text/markdown": [
       "<span style=\"color:#33cc33\">Correct</span>"
      ],
      "text/plain": [
       "Correct"
      ]
     },
     "metadata": {},
     "output_type": "display_data"
    }
   ],
   "source": [
    "# Fill in the line below: Which candy was more popular with survey respondents:\n",
    "# '3 Musketeers' or 'Almond Joy'?  (Please enclose your answer in single quotes.)\n",
    "more_popular = '3 Musketeers'\n",
    "\n",
    "# Fill in the line below: Which candy has higher sugar content: 'Air Heads'\n",
    "# or 'Baby Ruth'? (Please enclose your answer in single quotes.)\n",
    "more_sugar = 'Air Heads'\n",
    "\n",
    "# Check your answers\n",
    "step_2.check()"
   ]
  },
  {
   "cell_type": "code",
   "execution_count": 7,
   "id": "f4c22a45",
   "metadata": {
    "execution": {
     "iopub.execute_input": "2023-01-15T09:31:28.663654Z",
     "iopub.status.busy": "2023-01-15T09:31:28.662959Z",
     "iopub.status.idle": "2023-01-15T09:31:28.667155Z",
     "shell.execute_reply": "2023-01-15T09:31:28.666003Z"
    },
    "papermill": {
     "duration": 0.017518,
     "end_time": "2023-01-15T09:31:28.669292",
     "exception": false,
     "start_time": "2023-01-15T09:31:28.651774",
     "status": "completed"
    },
    "tags": []
   },
   "outputs": [],
   "source": [
    "# Lines below will give you a hint or solution code\n",
    "#step_2.hint()\n",
    "#step_2.solution()"
   ]
  },
  {
   "cell_type": "markdown",
   "id": "c2b3d3d0",
   "metadata": {
    "papermill": {
     "duration": 0.009407,
     "end_time": "2023-01-15T09:31:28.688327",
     "exception": false,
     "start_time": "2023-01-15T09:31:28.678920",
     "status": "completed"
    },
    "tags": []
   },
   "source": [
    "## Step 3: The role of sugar\n",
    "\n",
    "Do people tend to prefer candies with higher sugar content?  \n",
    "\n",
    "#### Part A\n",
    "\n",
    "Create a scatter plot that shows the relationship between `'sugarpercent'` (on the horizontal x-axis) and `'winpercent'` (on the vertical y-axis).  _Don't add a regression line just yet -- you'll do that in the next step!_"
   ]
  },
  {
   "cell_type": "code",
   "execution_count": 8,
   "id": "4dfd51ba",
   "metadata": {
    "execution": {
     "iopub.execute_input": "2023-01-15T09:31:28.709516Z",
     "iopub.status.busy": "2023-01-15T09:31:28.709088Z",
     "iopub.status.idle": "2023-01-15T09:31:29.019129Z",
     "shell.execute_reply": "2023-01-15T09:31:29.017953Z"
    },
    "papermill": {
     "duration": 0.323579,
     "end_time": "2023-01-15T09:31:29.021702",
     "exception": false,
     "start_time": "2023-01-15T09:31:28.698123",
     "status": "completed"
    },
    "tags": []
   },
   "outputs": [
    {
     "data": {
      "application/javascript": [
       "parent.postMessage({\"jupyterEvent\": \"custom.exercise_interaction\", \"data\": {\"outcomeType\": 1, \"valueTowardsCompletion\": 0.3333333333333333, \"interactionType\": 1, \"questionType\": 2, \"questionId\": \"3.1_PlotBlueScatter\", \"learnToolsVersion\": \"0.3.4\", \"failureMessage\": \"\", \"exceptionClass\": \"\", \"trace\": \"\"}}, \"*\")"
      ],
      "text/plain": [
       "<IPython.core.display.Javascript object>"
      ]
     },
     "metadata": {},
     "output_type": "display_data"
    },
    {
     "data": {
      "text/markdown": [
       "<span style=\"color:#33cc33\">Correct</span>"
      ],
      "text/plain": [
       "Correct"
      ]
     },
     "metadata": {},
     "output_type": "display_data"
    },
    {
     "data": {
      "image/png": "[encoded data removed]",
      "text/plain": [
       "<Figure size 504x504 with 1 Axes>"
      ]
     },
     "metadata": {
      "needs_background": "light"
     },
     "output_type": "display_data"
    }
   ],
   "source": [
    "# Scatter plot showing the relationship btw 'sugarpercent' and 'winpercent'\n",
    "plt.figure(figsize=(7,7))\n",
    "plt.title('plot showing the relationship btw sugarpercent and winpercent')\n",
    "sns.scatterplot(x=candy_data['sugarpercent'], y=candy_data['winpercent']) # Your code here\n",
    "\n",
    "# Check your answer\n",
    "step_3.a.check()"
   ]
  },
  {
   "cell_type": "code",
   "execution_count": 9,
   "id": "56f78f41",
   "metadata": {
    "execution": {
     "iopub.execute_input": "2023-01-15T09:31:29.044439Z",
     "iopub.status.busy": "2023-01-15T09:31:29.044021Z",
     "iopub.status.idle": "2023-01-15T09:31:29.048850Z",
     "shell.execute_reply": "2023-01-15T09:31:29.047682Z"
    },
    "papermill": {
     "duration": 0.018738,
     "end_time": "2023-01-15T09:31:29.051271",
     "exception": false,
     "start_time": "2023-01-15T09:31:29.032533",
     "status": "completed"
    },
    "tags": []
   },
   "outputs": [],
   "source": [
    "# Lines below will give you a hint or solution code\n",
    "#step_3.a.hint()\n",
    "#step_3.a.solution_plot()"
   ]
  },
  {
   "cell_type": "markdown",
   "id": "b556abfa",
   "metadata": {
    "papermill": {
     "duration": 0.009747,
     "end_time": "2023-01-15T09:31:29.071644",
     "exception": false,
     "start_time": "2023-01-15T09:31:29.061897",
     "status": "completed"
    },
    "tags": []
   },
   "source": [
    "#### Part B\n",
    "\n",
    "Does the scatter plot show a **strong** correlation between the two variables?  If so, are candies with more sugar relatively more or less popular with the survey respondents?"
   ]
  },
  {
   "cell_type": "code",
   "execution_count": 10,
   "id": "40ccfdda",
   "metadata": {
    "execution": {
     "iopub.execute_input": "2023-01-15T09:31:29.093834Z",
     "iopub.status.busy": "2023-01-15T09:31:29.093156Z",
     "iopub.status.idle": "2023-01-15T09:31:29.098424Z",
     "shell.execute_reply": "2023-01-15T09:31:29.097251Z"
    },
    "papermill": {
     "duration": 0.019033,
     "end_time": "2023-01-15T09:31:29.100851",
     "exception": false,
     "start_time": "2023-01-15T09:31:29.081818",
     "status": "completed"
    },
    "tags": []
   },
   "outputs": [],
   "source": [
    "#step_3.b.hint()"
   ]
  },
  {
   "cell_type": "code",
   "execution_count": 11,
   "id": "113339be",
   "metadata": {
    "execution": {
     "iopub.execute_input": "2023-01-15T09:31:29.123170Z",
     "iopub.status.busy": "2023-01-15T09:31:29.122744Z",
     "iopub.status.idle": "2023-01-15T09:31:29.131612Z",
     "shell.execute_reply": "2023-01-15T09:31:29.130479Z"
    },
    "papermill": {
     "duration": 0.022548,
     "end_time": "2023-01-15T09:31:29.133706",
     "exception": false,
     "start_time": "2023-01-15T09:31:29.111158",
     "status": "completed"
    },
    "tags": []
   },
   "outputs": [
    {
     "data": {
      "application/javascript": [
       "parent.postMessage({\"jupyterEvent\": \"custom.exercise_interaction\", \"data\": {\"interactionType\": 3, \"questionType\": 4, \"questionId\": \"3.2_ThinkBlueScatter\", \"learnToolsVersion\": \"0.3.4\", \"valueTowardsCompletion\": 0.0, \"failureMessage\": \"\", \"exceptionClass\": \"\", \"trace\": \"\", \"outcomeType\": 4}}, \"*\")"
      ],
      "text/plain": [
       "<IPython.core.display.Javascript object>"
      ]
     },
     "metadata": {},
     "output_type": "display_data"
    },
    {
     "data": {
      "text/markdown": [
       "<span style=\"color:#33cc99\">Solution:</span> The scatter plot does not show a strong correlation between the two variables. Since there is no clear relationship between the two variables, this tells us that sugar content does not play a strong role in candy popularity."
      ],
      "text/plain": [
       "Solution: The scatter plot does not show a strong correlation between the two variables. Since there is no clear relationship between the two variables, this tells us that sugar content does not play a strong role in candy popularity."
      ]
     },
     "metadata": {},
     "output_type": "display_data"
    }
   ],
   "source": [
    "# Check your answer (Run this code cell to receive credit!)\n",
    "step_3.b.solution()"
   ]
  },
  {
   "cell_type": "markdown",
   "id": "3aded252",
   "metadata": {
    "papermill": {
     "duration": 0.010162,
     "end_time": "2023-01-15T09:31:29.154450",
     "exception": false,
     "start_time": "2023-01-15T09:31:29.144288",
     "status": "completed"
    },
    "tags": []
   },
   "source": [
    "## Step 4: Take a closer look\n",
    "\n",
    "#### Part A\n",
    "\n",
    "Create the same scatter plot you created in **Step 3**, but now with a regression line!"
   ]
  },
  {
   "cell_type": "code",
   "execution_count": 12,
   "id": "d5d3b0f0",
   "metadata": {
    "execution": {
     "iopub.execute_input": "2023-01-15T09:31:29.177487Z",
     "iopub.status.busy": "2023-01-15T09:31:29.176842Z",
     "iopub.status.idle": "2023-01-15T09:31:29.495600Z",
     "shell.execute_reply": "2023-01-15T09:31:29.494428Z"
    },
    "papermill": {
     "duration": 0.333296,
     "end_time": "2023-01-15T09:31:29.498253",
     "exception": false,
     "start_time": "2023-01-15T09:31:29.164957",
     "status": "completed"
    },
    "tags": []
   },
   "outputs": [
    {
     "data": {
      "application/javascript": [
       "parent.postMessage({\"jupyterEvent\": \"custom.exercise_interaction\", \"data\": {\"outcomeType\": 1, \"valueTowardsCompletion\": 0.3333333333333333, \"interactionType\": 1, \"questionType\": 2, \"questionId\": \"4.1_PlotBlueReg\", \"learnToolsVersion\": \"0.3.4\", \"failureMessage\": \"\", \"exceptionClass\": \"\", \"trace\": \"\"}}, \"*\")"
      ],
      "text/plain": [
       "<IPython.core.display.Javascript object>"
      ]
     },
     "metadata": {},
     "output_type": "display_data"
    },
    {
     "data": {
      "text/markdown": [
       "<span style=\"color:#33cc33\">Correct</span>"
      ],
      "text/plain": [
       "Correct"
      ]
     },
     "metadata": {},
     "output_type": "display_data"
    },
    {
     "data": {
      "image/png": "[encoded data removed]",
      "text/plain": [
       "<Figure size 432x288 with 1 Axes>"
      ]
     },
     "metadata": {
      "needs_background": "light"
     },
     "output_type": "display_data"
    }
   ],
   "source": [
    "# Scatter plot w/ regression line showing the relationship between 'sugarpercent' and 'winpercent'\n",
    "# Your code here\n",
    "sns.regplot(x=candy_data['sugarpercent'], y=candy_data['winpercent'])\n",
    "# Check your answer\n",
    "step_4.a.check()"
   ]
  },
  {
   "cell_type": "code",
   "execution_count": 13,
   "id": "1907178a",
   "metadata": {
    "execution": {
     "iopub.execute_input": "2023-01-15T09:31:29.522962Z",
     "iopub.status.busy": "2023-01-15T09:31:29.522199Z",
     "iopub.status.idle": "2023-01-15T09:31:29.527395Z",
     "shell.execute_reply": "2023-01-15T09:31:29.526409Z"
    },
    "papermill": {
     "duration": 0.020311,
     "end_time": "2023-01-15T09:31:29.529825",
     "exception": false,
     "start_time": "2023-01-15T09:31:29.509514",
     "status": "completed"
    },
    "tags": []
   },
   "outputs": [],
   "source": [
    "# Lines below will give you a hint or solution code\n",
    "#step_4.a.hint()\n",
    "#step_4.a.solution_plot()"
   ]
  },
  {
   "cell_type": "markdown",
   "id": "819d3f62",
   "metadata": {
    "papermill": {
     "duration": 0.010816,
     "end_time": "2023-01-15T09:31:29.552005",
     "exception": false,
     "start_time": "2023-01-15T09:31:29.541189",
     "status": "completed"
    },
    "tags": []
   },
   "source": [
    "#### Part B\n",
    "\n",
    "According to the plot above, is there a **slight** correlation between `'winpercent'` and `'sugarpercent'`?  What does this tell you about the candy that people tend to prefer?"
   ]
  },
  {
   "cell_type": "code",
   "execution_count": 14,
   "id": "ad3b6965",
   "metadata": {
    "execution": {
     "iopub.execute_input": "2023-01-15T09:31:29.577396Z",
     "iopub.status.busy": "2023-01-15T09:31:29.576960Z",
     "iopub.status.idle": "2023-01-15T09:31:29.581849Z",
     "shell.execute_reply": "2023-01-15T09:31:29.580697Z"
    },
    "papermill": {
     "duration": 0.020631,
     "end_time": "2023-01-15T09:31:29.584637",
     "exception": false,
     "start_time": "2023-01-15T09:31:29.564006",
     "status": "completed"
    },
    "tags": []
   },
   "outputs": [],
   "source": [
    "#step_4.b.hint()\n"
   ]
  },
  {
   "cell_type": "code",
   "execution_count": 15,
   "id": "8a17be6d",
   "metadata": {
    "execution": {
     "iopub.execute_input": "2023-01-15T09:31:29.608825Z",
     "iopub.status.busy": "2023-01-15T09:31:29.608407Z",
     "iopub.status.idle": "2023-01-15T09:31:29.617736Z",
     "shell.execute_reply": "2023-01-15T09:31:29.616651Z"
    },
    "papermill": {
     "duration": 0.023847,
     "end_time": "2023-01-15T09:31:29.619906",
     "exception": false,
     "start_time": "2023-01-15T09:31:29.596059",
     "status": "completed"
    },
    "tags": []
   },
   "outputs": [
    {
     "data": {
      "application/javascript": [
       "parent.postMessage({\"jupyterEvent\": \"custom.exercise_interaction\", \"data\": {\"interactionType\": 3, \"questionType\": 4, \"questionId\": \"4.2_ThinkBlueReg\", \"learnToolsVersion\": \"0.3.4\", \"valueTowardsCompletion\": 0.0, \"failureMessage\": \"\", \"exceptionClass\": \"\", \"trace\": \"\", \"outcomeType\": 4}}, \"*\")"
      ],
      "text/plain": [
       "<IPython.core.display.Javascript object>"
      ]
     },
     "metadata": {},
     "output_type": "display_data"
    },
    {
     "data": {
      "text/markdown": [
       "<span style=\"color:#33cc99\">Solution:</span> Since the regression line has a slightly positive slope, this tells us that there is a slightly positive correlation between `'winpercent'` and `'sugarpercent'`. Thus, people have a slight preference for candies containing relatively more sugar."
      ],
      "text/plain": [
       "Solution: Since the regression line has a slightly positive slope, this tells us that there is a slightly positive correlation between `'winpercent'` and `'sugarpercent'`. Thus, people have a slight preference for candies containing relatively more sugar."
      ]
     },
     "metadata": {},
     "output_type": "display_data"
    }
   ],
   "source": [
    "# Check your answer (Run this code cell to receive credit!)\n",
    "step_4.b.solution()"
   ]
  },
  {
   "cell_type": "markdown",
   "id": "656336d5",
   "metadata": {
    "papermill": {
     "duration": 0.011116,
     "end_time": "2023-01-15T09:31:29.643307",
     "exception": false,
     "start_time": "2023-01-15T09:31:29.632191",
     "status": "completed"
    },
    "tags": []
   },
   "source": [
    "## Step 5: Chocolate!\n",
    "\n",
    "In the code cell below, create a scatter plot to show the relationship between `'pricepercent'` (on the horizontal x-axis) and `'winpercent'` (on the vertical y-axis). Use the `'chocolate'` column to color-code the points.  _Don't add any regression lines just yet -- you'll do that in the next step!_"
   ]
  },
  {
   "cell_type": "code",
   "execution_count": 16,
   "id": "dda03ca8",
   "metadata": {
    "execution": {
     "iopub.execute_input": "2023-01-15T09:31:29.668396Z",
     "iopub.status.busy": "2023-01-15T09:31:29.667705Z",
     "iopub.status.idle": "2023-01-15T09:31:29.894537Z",
     "shell.execute_reply": "2023-01-15T09:31:29.893295Z"
    },
    "papermill": {
     "duration": 0.242116,
     "end_time": "2023-01-15T09:31:29.896882",
     "exception": false,
     "start_time": "2023-01-15T09:31:29.654766",
     "status": "completed"
    },
    "tags": []
   },
   "outputs": [
    {
     "data": {
      "application/javascript": [
       "parent.postMessage({\"jupyterEvent\": \"custom.exercise_interaction\", \"data\": {\"outcomeType\": 1, \"valueTowardsCompletion\": 0.3333333333333333, \"interactionType\": 1, \"questionType\": 2, \"questionId\": \"5_ColorScatter\", \"learnToolsVersion\": \"0.3.4\", \"failureMessage\": \"\", \"exceptionClass\": \"\", \"trace\": \"\"}}, \"*\")"
      ],
      "text/plain": [
       "<IPython.core.display.Javascript object>"
      ]
     },
     "metadata": {},
     "output_type": "display_data"
    },
    {
     "data": {
      "text/markdown": [
       "<span style=\"color:#33cc33\">Correct</span>"
      ],
      "text/plain": [
       "Correct"
      ]
     },
     "metadata": {},
     "output_type": "display_data"
    },
    {
     "data": {
      "image/png": "[encoded data removed]",
      "text/plain": [
       "<Figure size 432x288 with 1 Axes>"
      ]
     },
     "metadata": {
      "needs_background": "light"
     },
     "output_type": "display_data"
    }
   ],
   "source": [
    "# Scatter plot showing the relationship between 'pricepercent', 'winpercent', and 'chocolate'\n",
    "sns.scatterplot(x=candy_data['pricepercent'], y=candy_data['winpercent']) \n",
    "# Check your answer\n",
    "step_5.check()"
   ]
  },
  {
   "cell_type": "code",
   "execution_count": 17,
   "id": "7df69688",
   "metadata": {
    "execution": {
     "iopub.execute_input": "2023-01-15T09:31:29.923253Z",
     "iopub.status.busy": "2023-01-15T09:31:29.922840Z",
     "iopub.status.idle": "2023-01-15T09:31:29.927889Z",
     "shell.execute_reply": "2023-01-15T09:31:29.926812Z"
    },
    "papermill": {
     "duration": 0.021287,
     "end_time": "2023-01-15T09:31:29.930312",
     "exception": false,
     "start_time": "2023-01-15T09:31:29.909025",
     "status": "completed"
    },
    "tags": []
   },
   "outputs": [],
   "source": [
    "# Lines below will give you a hint or solution code\n",
    "#step_5.hint()\n",
    "#step_5.solution_plot()"
   ]
  },
  {
   "cell_type": "markdown",
   "id": "5b670e10",
   "metadata": {
    "papermill": {
     "duration": 0.012523,
     "end_time": "2023-01-15T09:31:29.955211",
     "exception": false,
     "start_time": "2023-01-15T09:31:29.942688",
     "status": "completed"
    },
    "tags": []
   },
   "source": [
    "Can you see any interesting patterns in the scatter plot?  We'll investigate this plot further  by adding regression lines in the next step!\n",
    "\n",
    "## Step 6: Investigate chocolate\n",
    "\n",
    "#### Part A\n",
    "\n",
    "Create the same scatter plot you created in **Step 5**, but now with two regression lines, corresponding to (1) chocolate candies and (2) candies without chocolate."
   ]
  },
  {
   "cell_type": "code",
   "execution_count": 18,
   "id": "e2cfaf39",
   "metadata": {
    "execution": {
     "iopub.execute_input": "2023-01-15T09:31:29.982003Z",
     "iopub.status.busy": "2023-01-15T09:31:29.981543Z",
     "iopub.status.idle": "2023-01-15T09:31:30.652707Z",
     "shell.execute_reply": "2023-01-15T09:31:30.651293Z"
    },
    "papermill": {
     "duration": 0.687798,
     "end_time": "2023-01-15T09:31:30.655499",
     "exception": false,
     "start_time": "2023-01-15T09:31:29.967701",
     "status": "completed"
    },
    "tags": []
   },
   "outputs": [
    {
     "data": {
      "application/javascript": [
       "parent.postMessage({\"jupyterEvent\": \"custom.exercise_interaction\", \"data\": {\"outcomeType\": 1, \"valueTowardsCompletion\": 0.3333333333333333, \"interactionType\": 1, \"questionType\": 2, \"questionId\": \"6.1_PlotColorReg\", \"learnToolsVersion\": \"0.3.4\", \"failureMessage\": \"\", \"exceptionClass\": \"\", \"trace\": \"\"}}, \"*\")"
      ],
      "text/plain": [
       "<IPython.core.display.Javascript object>"
      ]
     },
     "metadata": {},
     "output_type": "display_data"
    },
    {
     "data": {
      "text/markdown": [
       "<span style=\"color:#33cc33\">Correct</span>"
      ],
      "text/plain": [
       "Correct"
      ]
     },
     "metadata": {},
     "output_type": "display_data"
    },
    {
     "data": {
      "image/png": "[encoded data removed]",
      "text/plain": [
       "<Figure size 416.375x360 with 1 Axes>"
      ]
     },
     "metadata": {
      "needs_background": "light"
     },
     "output_type": "display_data"
    }
   ],
   "source": [
    "# Color-coded scatter plot w/ regression lines\n",
    "sns.lmplot(x='pricepercent', y='winpercent',hue='chocolate', data =candy_data) # Your code here\n",
    "\n",
    "# Check your answer\n",
    "step_6.a.check()"
   ]
  },
  {
   "cell_type": "code",
   "execution_count": 19,
   "id": "11bddc88",
   "metadata": {
    "execution": {
     "iopub.execute_input": "2023-01-15T09:31:30.683295Z",
     "iopub.status.busy": "2023-01-15T09:31:30.682886Z",
     "iopub.status.idle": "2023-01-15T09:31:30.688084Z",
     "shell.execute_reply": "2023-01-15T09:31:30.687027Z"
    },
    "papermill": {
     "duration": 0.021742,
     "end_time": "2023-01-15T09:31:30.690458",
     "exception": false,
     "start_time": "2023-01-15T09:31:30.668716",
     "status": "completed"
    },
    "tags": []
   },
   "outputs": [],
   "source": [
    "# Lines below will give you a hint or solution code\n",
    "#step_6.a.hint()\n",
    "#step_6.a.solution_plot()"
   ]
  },
  {
   "cell_type": "markdown",
   "id": "9fb0b8dd",
   "metadata": {
    "papermill": {
     "duration": 0.012174,
     "end_time": "2023-01-15T09:31:30.715077",
     "exception": false,
     "start_time": "2023-01-15T09:31:30.702903",
     "status": "completed"
    },
    "tags": []
   },
   "source": [
    "#### Part B\n",
    "\n",
    "Using the regression lines, what conclusions can you draw about the effects of chocolate and price on candy popularity?"
   ]
  },
  {
   "cell_type": "code",
   "execution_count": 20,
   "id": "40272145",
   "metadata": {
    "execution": {
     "iopub.execute_input": "2023-01-15T09:31:30.742110Z",
     "iopub.status.busy": "2023-01-15T09:31:30.741657Z",
     "iopub.status.idle": "2023-01-15T09:31:30.747343Z",
     "shell.execute_reply": "2023-01-15T09:31:30.745940Z"
    },
    "papermill": {
     "duration": 0.022295,
     "end_time": "2023-01-15T09:31:30.749985",
     "exception": false,
     "start_time": "2023-01-15T09:31:30.727690",
     "status": "completed"
    },
    "tags": []
   },
   "outputs": [],
   "source": [
    "#step_6.b.hint()"
   ]
  },
  {
   "cell_type": "code",
   "execution_count": 21,
   "id": "b9f5e969",
   "metadata": {
    "execution": {
     "iopub.execute_input": "2023-01-15T09:31:30.776985Z",
     "iopub.status.busy": "2023-01-15T09:31:30.776600Z",
     "iopub.status.idle": "2023-01-15T09:31:30.785761Z",
     "shell.execute_reply": "2023-01-15T09:31:30.784383Z"
    },
    "papermill": {
     "duration": 0.02545,
     "end_time": "2023-01-15T09:31:30.788047",
     "exception": false,
     "start_time": "2023-01-15T09:31:30.762597",
     "status": "completed"
    },
    "tags": []
   },
   "outputs": [
    {
     "data": {
      "application/javascript": [
       "parent.postMessage({\"jupyterEvent\": \"custom.exercise_interaction\", \"data\": {\"interactionType\": 3, \"questionType\": 4, \"questionId\": \"6.2_ThinkColorReg\", \"learnToolsVersion\": \"0.3.4\", \"valueTowardsCompletion\": 0.0, \"failureMessage\": \"\", \"exceptionClass\": \"\", \"trace\": \"\", \"outcomeType\": 4}}, \"*\")"
      ],
      "text/plain": [
       "<IPython.core.display.Javascript object>"
      ]
     },
     "metadata": {},
     "output_type": "display_data"
    },
    {
     "data": {
      "text/markdown": [
       "<span style=\"color:#33cc99\">Solution:</span> We'll begin with the regression line for chocolate candies. Since this line has a slightly positive slope, we can say that more expensive chocolate candies tend to be more popular (than relatively cheaper chocolate candies).  Likewise, since the regression line for candies without chocolate has a negative slope, we can say that if candies don't contain chocolate, they tend to be more popular when they are cheaper.  One important note, however, is that the dataset is quite small -- so we shouldn't invest too much trust in these patterns!  To inspire more confidence in the results, we should add more candies to the dataset."
      ],
      "text/plain": [
       "Solution: We'll begin with the regression line for chocolate candies. Since this line has a slightly positive slope, we can say that more expensive chocolate candies tend to be more popular (than relatively cheaper chocolate candies).  Likewise, since the regression line for candies without chocolate has a negative slope, we can say that if candies don't contain chocolate, they tend to be more popular when they are cheaper.  One important note, however, is that the dataset is quite small -- so we shouldn't invest too much trust in these patterns!  To inspire more confidence in the results, we should add more candies to the dataset."
      ]
     },
     "metadata": {},
     "output_type": "display_data"
    }
   ],
   "source": [
    "# Check your answer (Run this code cell to receive credit!)\n",
    "step_6.b.solution()"
   ]
  },
  {
   "cell_type": "markdown",
   "id": "f945ac4e",
   "metadata": {
    "papermill": {
     "duration": 0.012248,
     "end_time": "2023-01-15T09:31:30.812983",
     "exception": false,
     "start_time": "2023-01-15T09:31:30.800735",
     "status": "completed"
    },
    "tags": []
   },
   "source": [
    "## Step 7: Everybody loves chocolate.\n",
    "\n",
    "#### Part A\n",
    "\n",
    "Create a categorical scatter plot to highlight the relationship between `'chocolate'` and `'winpercent'`.  Put `'chocolate'` on the (horizontal) x-axis, and `'winpercent'` on the (vertical) y-axis."
   ]
  },
  {
   "cell_type": "code",
   "execution_count": 22,
   "id": "6b122405",
   "metadata": {
    "execution": {
     "iopub.execute_input": "2023-01-15T09:31:30.839931Z",
     "iopub.status.busy": "2023-01-15T09:31:30.839478Z",
     "iopub.status.idle": "2023-01-15T09:31:31.076081Z",
     "shell.execute_reply": "2023-01-15T09:31:31.074783Z"
    },
    "papermill": {
     "duration": 0.252958,
     "end_time": "2023-01-15T09:31:31.078646",
     "exception": false,
     "start_time": "2023-01-15T09:31:30.825688",
     "status": "completed"
    },
    "tags": []
   },
   "outputs": [
    {
     "data": {
      "application/javascript": [
       "parent.postMessage({\"jupyterEvent\": \"custom.exercise_interaction\", \"data\": {\"outcomeType\": 1, \"valueTowardsCompletion\": 0.3333333333333333, \"interactionType\": 1, \"questionType\": 2, \"questionId\": \"7.1_PlotSwarm\", \"learnToolsVersion\": \"0.3.4\", \"failureMessage\": \"\", \"exceptionClass\": \"\", \"trace\": \"\"}}, \"*\")"
      ],
      "text/plain": [
       "<IPython.core.display.Javascript object>"
      ]
     },
     "metadata": {},
     "output_type": "display_data"
    },
    {
     "data": {
      "text/markdown": [
       "<span style=\"color:#33cc33\">Correct</span>"
      ],
      "text/plain": [
       "Correct"
      ]
     },
     "metadata": {},
     "output_type": "display_data"
    },
    {
     "data": {
      "image/png": "[encoded data removed]",
      "text/plain": [
       "<Figure size 432x288 with 1 Axes>"
      ]
     },
     "metadata": {
      "needs_background": "light"
     },
     "output_type": "display_data"
    }
   ],
   "source": [
    "# Scatter plot showing the relationship between 'chocolate' and 'winpercent'\n",
    "sns.swarmplot(x=candy_data['chocolate'], y=candy_data['winpercent'])\n",
    " # Your code here\n",
    "\n",
    "# Check your answer\n",
    "step_7.a.check()"
   ]
  },
  {
   "cell_type": "code",
   "execution_count": 23,
   "id": "256a0e4f",
   "metadata": {
    "execution": {
     "iopub.execute_input": "2023-01-15T09:31:31.107683Z",
     "iopub.status.busy": "2023-01-15T09:31:31.107232Z",
     "iopub.status.idle": "2023-01-15T09:31:31.112102Z",
     "shell.execute_reply": "2023-01-15T09:31:31.110846Z"
    },
    "papermill": {
     "duration": 0.021693,
     "end_time": "2023-01-15T09:31:31.114308",
     "exception": false,
     "start_time": "2023-01-15T09:31:31.092615",
     "status": "completed"
    },
    "tags": []
   },
   "outputs": [],
   "source": [
    "# Lines below will give you a hint or solution code\n",
    "#step_7.a.hint()\n",
    "#step_7.a.solution_plot()"
   ]
  },
  {
   "cell_type": "markdown",
   "id": "19d33903",
   "metadata": {
    "papermill": {
     "duration": 0.013525,
     "end_time": "2023-01-15T09:31:31.141244",
     "exception": false,
     "start_time": "2023-01-15T09:31:31.127719",
     "status": "completed"
    },
    "tags": []
   },
   "source": [
    "#### Part B\n",
    "\n",
    "You decide to dedicate a section of your report to the fact that chocolate candies tend to be more popular than candies without chocolate.  Which plot is more appropriate to tell this story: the plot from **Step 6**, or the plot from **Step 7**?"
   ]
  },
  {
   "cell_type": "code",
   "execution_count": 24,
   "id": "ac5ae27a",
   "metadata": {
    "execution": {
     "iopub.execute_input": "2023-01-15T09:31:31.169676Z",
     "iopub.status.busy": "2023-01-15T09:31:31.169236Z",
     "iopub.status.idle": "2023-01-15T09:31:31.174344Z",
     "shell.execute_reply": "2023-01-15T09:31:31.173079Z"
    },
    "papermill": {
     "duration": 0.022059,
     "end_time": "2023-01-15T09:31:31.176758",
     "exception": false,
     "start_time": "2023-01-15T09:31:31.154699",
     "status": "completed"
    },
    "tags": []
   },
   "outputs": [],
   "source": [
    "#step_7.b.hint()"
   ]
  },
  {
   "cell_type": "code",
   "execution_count": 25,
   "id": "5c394eb1",
   "metadata": {
    "execution": {
     "iopub.execute_input": "2023-01-15T09:31:31.205107Z",
     "iopub.status.busy": "2023-01-15T09:31:31.204676Z",
     "iopub.status.idle": "2023-01-15T09:31:31.213319Z",
     "shell.execute_reply": "2023-01-15T09:31:31.212218Z"
    },
    "papermill": {
     "duration": 0.02557,
     "end_time": "2023-01-15T09:31:31.215621",
     "exception": false,
     "start_time": "2023-01-15T09:31:31.190051",
     "status": "completed"
    },
    "tags": []
   },
   "outputs": [
    {
     "data": {
      "application/javascript": [
       "parent.postMessage({\"jupyterEvent\": \"custom.exercise_interaction\", \"data\": {\"interactionType\": 3, \"questionType\": 4, \"questionId\": \"7.2_ThinkSwarm\", \"learnToolsVersion\": \"0.3.4\", \"valueTowardsCompletion\": 0.0, \"failureMessage\": \"\", \"exceptionClass\": \"\", \"trace\": \"\", \"outcomeType\": 4}}, \"*\")"
      ],
      "text/plain": [
       "<IPython.core.display.Javascript object>"
      ]
     },
     "metadata": {},
     "output_type": "display_data"
    },
    {
     "data": {
      "text/markdown": [
       "<span style=\"color:#33cc99\">Solution:</span> In this case, the categorical scatter plot from **Step 7** is the more appropriate plot. While both plots tell the desired story, the plot from **Step 6** conveys far more information that could distract from the main point."
      ],
      "text/plain": [
       "Solution: In this case, the categorical scatter plot from **Step 7** is the more appropriate plot. While both plots tell the desired story, the plot from **Step 6** conveys far more information that could distract from the main point."
      ]
     },
     "metadata": {},
     "output_type": "display_data"
    }
   ],
   "source": [
    "# Check your answer (Run this code cell to receive credit!)\n",
    "step_7.b.solution()"
   ]
  },
  {
   "cell_type": "markdown",
   "id": "747467cf",
   "metadata": {
    "papermill": {
     "duration": 0.013938,
     "end_time": "2023-01-15T09:31:31.243231",
     "exception": false,
     "start_time": "2023-01-15T09:31:31.229293",
     "status": "completed"
    },
    "tags": []
   },
   "source": [
    "## Keep going\n",
    "\n",
    "Explore **[histograms and density plots](https://www.kaggle.com/alexisbcook/distributions)**."
   ]
  },
  {
   "cell_type": "markdown",
   "id": "411d171a",
   "metadata": {
    "papermill": {
     "duration": 0.01325,
     "end_time": "2023-01-15T09:31:31.270322",
     "exception": false,
     "start_time": "2023-01-15T09:31:31.257072",
     "status": "completed"
    },
    "tags": []
   },
   "source": [
    "---\n",
    "\n",
    "\n",
    "\n",
    "\n",
    "*Have questions or comments? Visit the [course discussion forum](https://www.kaggle.com/learn/data-visualization/discussion) to chat with other learners.*"
   ]
  }
 ],
 "metadata": {
  "kernelspec": {
   "display_name": "Python 3",
   "language": "python",
   "name": "python3"
  },
  "language_info": {
   "codemirror_mode": {
    "name": "ipython",
    "version": 3
   },
   "file_extension": ".py",
   "mimetype": "text/x-python",
   "name": "python",
   "nbconvert_exporter": "python",
   "pygments_lexer": "ipython3",
   "version": "3.7.12"
  },
  "papermill": {
   "default_parameters": {},
   "duration": 13.788,
   "end_time": "2023-01-15T09:31:32.006692",
   "environment_variables": {},
   "exception": null,
   "input_path": "__notebook__.ipynb",
   "output_path": "__notebook__.ipynb",
   "parameters": {},
   "start_time": "2023-01-15T09:31:18.218692",
   "version": "2.3.4"
  }
 },
 "nbformat": 4,
 "nbformat_minor": 5
}
